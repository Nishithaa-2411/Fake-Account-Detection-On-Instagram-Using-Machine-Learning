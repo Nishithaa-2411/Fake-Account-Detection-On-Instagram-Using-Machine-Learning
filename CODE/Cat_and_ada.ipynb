{
 "cells": [
  {
   "cell_type": "code",
   "execution_count": 4,
   "metadata": {},
   "outputs": [],
   "source": [
    "import pandas as pd \n",
    "\n",
    "\n",
    "from sklearn.model_selection import train_test_split"
   ]
  },
  {
   "cell_type": "code",
   "execution_count": 5,
   "metadata": {},
   "outputs": [],
   "source": [
    "df = pd.read_csv(\"data.csv\")"
   ]
  },
  {
   "cell_type": "code",
   "execution_count": 6,
   "metadata": {},
   "outputs": [],
   "source": [
    "x = df.drop(\"fake\",axis = 1)\n",
    "y = df[\"fake\"]"
   ]
  },
  {
   "cell_type": "code",
   "execution_count": 7,
   "metadata": {},
   "outputs": [],
   "source": [
    "x_train,x_test,y_train,y_test = train_test_split(x,y,test_size = 0.2,random_state = 42)"
   ]
  },
  {
   "cell_type": "code",
   "execution_count": 8,
   "metadata": {},
   "outputs": [
    {
     "name": "stderr",
     "output_type": "stream",
     "text": [
      "c:\\ProgramData\\anaconda3\\Lib\\site-packages\\sklearn\\ensemble\\_base.py:166: FutureWarning: `base_estimator` was renamed to `estimator` in version 1.2 and will be removed in 1.4.\n",
      "  warnings.warn(\n"
     ]
    },
    {
     "name": "stdout",
     "output_type": "stream",
     "text": [
      "The accuracy obtained by the AdaBoost classifier is :\n",
      "0.9285714285714286\n",
      "The classification report for AdaBoost classifier is as follows:\n",
      "              precision    recall  f1-score   support\n",
      "\n",
      "           0       0.92      0.95      0.93        73\n",
      "           1       0.94      0.91      0.92        67\n",
      "\n",
      "    accuracy                           0.93       140\n",
      "   macro avg       0.93      0.93      0.93       140\n",
      "weighted avg       0.93      0.93      0.93       140\n",
      "\n"
     ]
    }
   ],
   "source": [
    "from sklearn.metrics import accuracy_score, classification_report\n",
    "from sklearn.ensemble import AdaBoostClassifier\n",
    "from sklearn.tree import DecisionTreeClassifier\n",
    "\n",
    "# Initialize the AdaBoost Classifier with a Decision Tree base estimator\n",
    "ada = AdaBoostClassifier(\n",
    "    base_estimator=DecisionTreeClassifier(max_depth=1),  # Simple decision tree as base estimator\n",
    "    n_estimators=50,  # Number of weak learners\n",
    "    random_state=42   # For reproducibility\n",
    ")\n",
    "\n",
    "# Train the AdaBoost model on the training data\n",
    "ada.fit(x_train, y_train)\n",
    "\n",
    "# Make predictions on the test set\n",
    "y_pred = ada.predict(x_test)\n",
    "\n",
    "# Calculate accuracy\n",
    "acc = accuracy_score(y_test, y_pred)\n",
    "print('The accuracy obtained by the AdaBoost classifier is :')\n",
    "print(acc)\n",
    "\n",
    "# Generate and print the classification report\n",
    "report = classification_report(y_test, y_pred)\n",
    "print('The classification report for AdaBoost classifier is as follows:')\n",
    "print(report)\n"
   ]
  },
  {
   "cell_type": "code",
   "execution_count": 9,
   "metadata": {},
   "outputs": [
    {
     "name": "stdout",
     "output_type": "stream",
     "text": [
      "0:\tlearn: 0.5631429\ttotal: 155ms\tremaining: 2m 35s\n",
      "200:\tlearn: 0.0115923\ttotal: 637ms\tremaining: 2.53s\n",
      "400:\tlearn: 0.0047408\ttotal: 1.14s\tremaining: 1.7s\n",
      "600:\tlearn: 0.0033958\ttotal: 1.69s\tremaining: 1.12s\n",
      "800:\tlearn: 0.0029373\ttotal: 2.18s\tremaining: 541ms\n",
      "999:\tlearn: 0.0026942\ttotal: 2.63s\tremaining: 0us\n",
      "The accuracy obtained by the CatBoost classifier is :\n",
      "0.9142857142857143\n",
      "The classification report for CatBoost classifier is as follows:\n",
      "              precision    recall  f1-score   support\n",
      "\n",
      "           0       0.89      0.96      0.92        73\n",
      "           1       0.95      0.87      0.91        67\n",
      "\n",
      "    accuracy                           0.91       140\n",
      "   macro avg       0.92      0.91      0.91       140\n",
      "weighted avg       0.92      0.91      0.91       140\n",
      "\n"
     ]
    }
   ],
   "source": [
    "from sklearn.metrics import accuracy_score, classification_report\n",
    "from catboost import CatBoostClassifier\n",
    "\n",
    "# Initialize the CatBoost Classifier\n",
    "catboost = CatBoostClassifier(\n",
    "    iterations=1000,         # Number of boosting iterations\n",
    "    depth=6,                 # Depth of the trees\n",
    "    learning_rate=0.1,      # Learning rate\n",
    "    loss_function='Logloss',  # Log loss for binary classification\n",
    "    random_state=42,         # For reproducibility\n",
    "    verbose=200              # Print progress every 200 iterations\n",
    ")\n",
    "\n",
    "# Train the CatBoost model on the training data\n",
    "catboost.fit(x_train, y_train)\n",
    "\n",
    "# Make predictions on the test set\n",
    "y_pred = catboost.predict(x_test)\n",
    "\n",
    "# Calculate accuracy\n",
    "acc = accuracy_score(y_test, y_pred)\n",
    "print('The accuracy obtained by the CatBoost classifier is :')\n",
    "print(acc)\n",
    "\n",
    "# Generate and print the classification report\n",
    "report = classification_report(y_test, y_pred)\n",
    "print('The classification report for CatBoost classifier is as follows:')\n",
    "print(report)\n"
   ]
  },
  {
   "cell_type": "code",
   "execution_count": null,
   "metadata": {},
   "outputs": [],
   "source": []
  },
  {
   "cell_type": "code",
   "execution_count": null,
   "metadata": {},
   "outputs": [],
   "source": []
  },
  {
   "cell_type": "code",
   "execution_count": null,
   "metadata": {},
   "outputs": [],
   "source": []
  },
  {
   "cell_type": "code",
   "execution_count": null,
   "metadata": {},
   "outputs": [],
   "source": []
  }
 ],
 "metadata": {
  "kernelspec": {
   "display_name": "base",
   "language": "python",
   "name": "python3"
  },
  "language_info": {
   "codemirror_mode": {
    "name": "ipython",
    "version": 3
   },
   "file_extension": ".py",
   "mimetype": "text/x-python",
   "name": "python",
   "nbconvert_exporter": "python",
   "pygments_lexer": "ipython3",
   "version": "3.11.7"
  }
 },
 "nbformat": 4,
 "nbformat_minor": 2
}
